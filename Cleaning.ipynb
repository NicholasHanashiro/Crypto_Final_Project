{
 "cells": [
  {
   "cell_type": "code",
   "execution_count": 1,
   "metadata": {},
   "outputs": [
    {
     "name": "stdout",
     "output_type": "stream",
     "text": [
      "Requirement already satisfied: pycoingecko in c:\\users\\nicho\\anaconda3\\lib\\site-packages (2.2.0)\n",
      "Requirement already satisfied: requests in c:\\users\\nicho\\anaconda3\\lib\\site-packages (from pycoingecko) (2.24.0)\n",
      "Requirement already satisfied: chardet<4,>=3.0.2 in c:\\users\\nicho\\anaconda3\\lib\\site-packages (from requests->pycoingecko) (3.0.4)\n",
      "Requirement already satisfied: urllib3!=1.25.0,!=1.25.1,<1.26,>=1.21.1 in c:\\users\\nicho\\anaconda3\\lib\\site-packages (from requests->pycoingecko) (1.25.11)\n",
      "Requirement already satisfied: idna<3,>=2.5 in c:\\users\\nicho\\anaconda3\\lib\\site-packages (from requests->pycoingecko) (2.10)\n",
      "Requirement already satisfied: certifi>=2017.4.17 in c:\\users\\nicho\\anaconda3\\lib\\site-packages (from requests->pycoingecko) (2020.6.20)\n",
      "Note: you may need to restart the kernel to use updated packages.\n"
     ]
    }
   ],
   "source": [
    "pip install pycoingecko"
   ]
  },
  {
   "cell_type": "code",
   "execution_count": 54,
   "metadata": {},
   "outputs": [],
   "source": [
    "from pycoingecko import CoinGeckoAPI\n",
    "cg = CoinGeckoAPI()\n",
    "\n",
    "import datetime as dt\n",
    "from datetime import timedelta\n",
    "import pandas as pd\n",
    "import numpy as np"
   ]
  },
  {
   "cell_type": "code",
   "execution_count": 55,
   "metadata": {},
   "outputs": [
    {
     "data": {
      "text/plain": [
       "{'gecko_says': '(V3) To the Moon!'}"
      ]
     },
     "execution_count": 55,
     "metadata": {},
     "output_type": "execute_result"
    }
   ],
   "source": [
    "cg.ping()"
   ]
  },
  {
   "cell_type": "code",
   "execution_count": 56,
   "metadata": {},
   "outputs": [
    {
     "data": {
      "text/plain": [
       "{'bitcoin': {'usd': 49348}}"
      ]
     },
     "execution_count": 56,
     "metadata": {},
     "output_type": "execute_result"
    }
   ],
   "source": [
    "cg.get_price(ids=\"bitcoin\", vs_currencies='usd')"
   ]
  },
  {
   "cell_type": "code",
   "execution_count": 57,
   "metadata": {},
   "outputs": [
    {
     "data": {
      "text/plain": [
       "{'id': 'bitcoin',\n",
       " 'symbol': 'btc',\n",
       " 'name': 'Bitcoin',\n",
       " 'localization': {'en': 'Bitcoin',\n",
       "  'de': 'Bitcoin',\n",
       "  'es': 'Bitcoin',\n",
       "  'fr': 'Bitcoin',\n",
       "  'it': 'Bitcoin',\n",
       "  'pl': 'Bitcoin',\n",
       "  'ro': 'Bitcoin',\n",
       "  'hu': 'Bitcoin',\n",
       "  'nl': 'Bitcoin',\n",
       "  'pt': 'Bitcoin',\n",
       "  'sv': 'Bitcoin',\n",
       "  'vi': 'Bitcoin',\n",
       "  'tr': 'Bitcoin',\n",
       "  'ru': 'биткоин',\n",
       "  'ja': 'ビットコイン',\n",
       "  'zh': '比特币',\n",
       "  'zh-tw': '比特幣',\n",
       "  'ko': '비트코인',\n",
       "  'ar': 'بيتكوين',\n",
       "  'th': 'บิตคอยน์',\n",
       "  'id': 'Bitcoin'},\n",
       " 'image': {'thumb': 'https://assets.coingecko.com/coins/images/1/thumb/bitcoin.png?1547033579',\n",
       "  'small': 'https://assets.coingecko.com/coins/images/1/small/bitcoin.png?1547033579'},\n",
       " 'market_data': {'current_price': {'aed': 23499.21610393996,\n",
       "   'ars': 410563.6143587888,\n",
       "   'aud': 10377.274304544148,\n",
       "   'bch': 29.732352419432694,\n",
       "   'bdt': 542870.6948176933,\n",
       "   'bhd': 2409.9716083116546,\n",
       "   'bmd': 6397.826328325604,\n",
       "   'bnb': 517.6985705205358,\n",
       "   'brl': 32632.113187624735,\n",
       "   'btc': 1.0,\n",
       "   'cad': 8971.671860210987,\n",
       "   'chf': 6086.028262214649,\n",
       "   'clp': 5314034.548307244,\n",
       "   'cny': 45401.5347563298,\n",
       "   'czk': 157391.00615523977,\n",
       "   'dkk': 42882.71053086795,\n",
       "   'eos': 2892.6767591204143,\n",
       "   'eth': 49.02821591483618,\n",
       "   'eur': 5729.253477015574,\n",
       "   'gbp': 5136.750780749345,\n",
       "   'hkd': 49622.50067644264,\n",
       "   'huf': 2047816.2511704606,\n",
       "   'idr': 102492947.45802844,\n",
       "   'ils': 22811.769664961314,\n",
       "   'inr': 479043.64415970765,\n",
       "   'jpy': 690421.6069765243,\n",
       "   'krw': 7758899.901413585,\n",
       "   'kwd': 2004.1190973479902,\n",
       "   'lkr': 1204565.8700291167,\n",
       "   'ltc': 167.28925110196695,\n",
       "   'mmk': 8964674.00094481,\n",
       "   'mxn': 149651.5492480381,\n",
       "   'myr': 27687.233218461897,\n",
       "   'ngn': 2474725.6848111395,\n",
       "   'nok': 67098.48318358038,\n",
       "   'nzd': 10592.433203965673,\n",
       "   'php': 326378.83387190214,\n",
       "   'pkr': 1033021.0934398965,\n",
       "   'pln': 26061.60952669766,\n",
       "   'rub': 503972.7744480286,\n",
       "   'sar': 24028.553060866594,\n",
       "   'sek': 63309.05064931316,\n",
       "   'sgd': 9134.81643158329,\n",
       "   'thb': 207627.8964918179,\n",
       "   'try': 41297.96894934171,\n",
       "   'twd': 193054.4094572249,\n",
       "   'uah': 179135.30489514628,\n",
       "   'usd': 6397.826328325604,\n",
       "   'vef': 1589780779.7930212,\n",
       "   'vnd': 148934109.42815778,\n",
       "   'xag': 441.84412275629154,\n",
       "   'xau': 3.9408051051954414,\n",
       "   'xdr': 4693.183083580203,\n",
       "   'xlm': 157995.81958728845,\n",
       "   'xrp': 36846.89355141044,\n",
       "   'zar': 112588.78778021545,\n",
       "   'bits': 1000000.0,\n",
       "   'link': 2992.199604666583,\n",
       "   'sats': 100000000.0},\n",
       "  'market_cap': {'aed': 429813281620.1097,\n",
       "   'ars': 7509428979283.158,\n",
       "   'aud': 189805919626.41403,\n",
       "   'bch': 543820692.0246731,\n",
       "   'bdt': 9929396529778.729,\n",
       "   'bhd': 44079674870.773834,\n",
       "   'bmd': 117019679177.81361,\n",
       "   'bnb': 9468984858.952969,\n",
       "   'brl': 596858873646.4381,\n",
       "   'btc': 18290537.0,\n",
       "   'cad': 164096696111.04788,\n",
       "   'chf': 111316725113.08273,\n",
       "   'clp': 97196545525091.94,\n",
       "   'cny': 830418451317.4362,\n",
       "   'czk': 2878766021549.641,\n",
       "   'dkk': 784347803625.1299,\n",
       "   'eos': 52908611291.73202,\n",
       "   'eth': 896752397.2343,\n",
       "   'eur': 104791122703.73201,\n",
       "   'gbp': 93953930215.07478,\n",
       "   'hkd': 907622184654.9991,\n",
       "   'huf': 37455658911234.61,\n",
       "   'idr': 1874651047720124.5,\n",
       "   'ils': 417239517092.45245,\n",
       "   'inr': 8761965498117.966,\n",
       "   'jpy': 12628181948003.576,\n",
       "   'krw': 141914445726101.53,\n",
       "   'kwd': 36656414502.45001,\n",
       "   'lkr': 22032156614704.754,\n",
       "   'ltc': 3059810236.982818,\n",
       "   'mmk': 163968701507219.1,\n",
       "   'mxn': 2737207198628.563,\n",
       "   'myr': 506414363609.9065,\n",
       "   'ngn': 45264061702888.49,\n",
       "   'nok': 1227267289313.1548,\n",
       "   'nzd': 193741291437.16263,\n",
       "   'php': 5969644136950.879,\n",
       "   'pkr': 18894510531342.875,\n",
       "   'pln': 476680833327.616,\n",
       "   'rub': 9217932678034.322,\n",
       "   'sar': 439495138816.2436,\n",
       "   'sek': 1157956533336.1365,\n",
       "   'sgd': 167080697930.08212,\n",
       "   'thb': 3797625723015.7656,\n",
       "   'try': 755362029092.7856,\n",
       "   'twd': 3531068819190.522,\n",
       "   'uah': 3276480922190.9546,\n",
       "   'usd': 117019679177.81361,\n",
       "   'vef': 29077944174693104,\n",
       "   'vnd': 2724084839057769,\n",
       "   'xag': 8081566275.506492,\n",
       "   'xau': 72079441.5863661,\n",
       "   'xdr': 85840838837.9978,\n",
       "   'xlm': 2889828384006.625,\n",
       "   'xrp': 673949469837.134,\n",
       "   'zar': 2059309388679.1794,\n",
       "   'bits': 18290537000000.0,\n",
       "   'link': 54728937580.53951,\n",
       "   'sats': 1829053700000000},\n",
       "  'total_volume': {'aed': 120880456024.86209,\n",
       "   'ars': 2111947765039.9167,\n",
       "   'aud': 53380914694.34428,\n",
       "   'bch': 152943838.77555573,\n",
       "   'bdt': 2792538136669.76,\n",
       "   'bhd': 12396944039.798828,\n",
       "   'bmd': 32910551599.472366,\n",
       "   'bnb': 2663052206.1307945,\n",
       "   'brl': 167860268433.10876,\n",
       "   'btc': 5163072.728041193,\n",
       "   'cad': 46150466507.94006,\n",
       "   'chf': 31306655867.27205,\n",
       "   'clp': 27335504158521.734,\n",
       "   'cny': 233546438370.4956,\n",
       "   'czk': 809622606733.1404,\n",
       "   'dkk': 220589554205.78308,\n",
       "   'eos': 14879989367.661045,\n",
       "   'eth': 252202161.62347358,\n",
       "   'eur': 29471398957.327488,\n",
       "   'gbp': 26423552773.70037,\n",
       "   'hkd': 255259174788.24768,\n",
       "   'huf': 10534009355959.123,\n",
       "   'idr': 527225851843690.2,\n",
       "   'ils': 117344217255.49849,\n",
       "   'inr': 2464210461562.092,\n",
       "   'jpy': 3551543095377.868,\n",
       "   'krw': 39911942346744.08,\n",
       "   'kwd': 10309230288.534693,\n",
       "   'lkr': 6196311870024.09,\n",
       "   'ltc': 860539384.4551666,\n",
       "   'mmk': 46114469374437.75,\n",
       "   'mxn': 769810679552.7076,\n",
       "   'myr': 142423703101.8767,\n",
       "   'ngn': 12730040355101.627,\n",
       "   'nok': 345155992009.7861,\n",
       "   'nzd': 54487696544.6342,\n",
       "   'php': 1678899504595.9614,\n",
       "   'pkr': 5313881974019.545,\n",
       "   'pln': 134061461045.96683,\n",
       "   'rub': 2592446425869.437,\n",
       "   'sar': 123603376332.54744,\n",
       "   'sek': 325663072297.41876,\n",
       "   'sgd': 46989685573.72661,\n",
       "   'thb': 1068042214702.0372,\n",
       "   'try': 212437610574.5938,\n",
       "   'twd': 993075894514.0776,\n",
       "   'uah': 921475731364.8185,\n",
       "   'usd': 32910551599.472366,\n",
       "   'vef': 8177865371803649,\n",
       "   'vnd': 766120154208631.0,\n",
       "   'xag': 2272855350.342121,\n",
       "   'xau': 20271583.363211013,\n",
       "   'xdr': 24141831320.75736,\n",
       "   'xlm': 812733779597.4874,\n",
       "   'xrp': 189541186220.55905,\n",
       "   'zar': 579159064283.7231,\n",
       "   'bits': 5163072728041.193,\n",
       "   'link': 15448944175.709677,\n",
       "   'sats': 516307272804119.4}},\n",
       " 'community_data': {'facebook_likes': None,\n",
       "  'twitter_followers': 68803,\n",
       "  'reddit_average_posts_48h': 7.333,\n",
       "  'reddit_average_comments_48h': 401.417,\n",
       "  'reddit_subscribers': 1340493,\n",
       "  'reddit_accounts_active_48h': '5416.38461538462'},\n",
       " 'developer_data': {'forks': 25398,\n",
       "  'stars': 42677,\n",
       "  'subscribers': 3503,\n",
       "  'total_issues': 5295,\n",
       "  'closed_issues': 4530,\n",
       "  'pull_requests_merged': 7299,\n",
       "  'pull_request_contributors': 643,\n",
       "  'code_additions_deletions_4_weeks': {'additions': 2506, 'deletions': -1880},\n",
       "  'commit_count_4_weeks': 307},\n",
       " 'public_interest_stats': {'alexa_rank': 12275, 'bing_matches': None}}"
      ]
     },
     "execution_count": 57,
     "metadata": {},
     "output_type": "execute_result"
    }
   ],
   "source": [
    "cg.get_coin_history_by_id('bitcoin','28-03-2020')"
   ]
  },
  {
   "cell_type": "code",
   "execution_count": 58,
   "metadata": {},
   "outputs": [],
   "source": [
    "btc_df = pd.DataFrame(cg.get_coin_market_chart_by_id('bitcoin',vs_currency='usd',days = 6000,))"
   ]
  },
  {
   "cell_type": "code",
   "execution_count": 59,
   "metadata": {},
   "outputs": [
    {
     "data": {
      "text/html": [
       "<div>\n",
       "<style scoped>\n",
       "    .dataframe tbody tr th:only-of-type {\n",
       "        vertical-align: middle;\n",
       "    }\n",
       "\n",
       "    .dataframe tbody tr th {\n",
       "        vertical-align: top;\n",
       "    }\n",
       "\n",
       "    .dataframe thead th {\n",
       "        text-align: right;\n",
       "    }\n",
       "</style>\n",
       "<table border=\"1\" class=\"dataframe\">\n",
       "  <thead>\n",
       "    <tr style=\"text-align: right;\">\n",
       "      <th></th>\n",
       "      <th>prices</th>\n",
       "      <th>market_caps</th>\n",
       "      <th>total_volumes</th>\n",
       "    </tr>\n",
       "  </thead>\n",
       "  <tbody>\n",
       "    <tr>\n",
       "      <th>0</th>\n",
       "      <td>[1367107200000, 135.3]</td>\n",
       "      <td>[1367107200000, 1500517590]</td>\n",
       "      <td>[1367107200000, 0]</td>\n",
       "    </tr>\n",
       "    <tr>\n",
       "      <th>1</th>\n",
       "      <td>[1367193600000, 141.96]</td>\n",
       "      <td>[1367193600000, 1575032004.0]</td>\n",
       "      <td>[1367193600000, 0.0]</td>\n",
       "    </tr>\n",
       "    <tr>\n",
       "      <th>2</th>\n",
       "      <td>[1367280000000, 135.3]</td>\n",
       "      <td>[1367280000000, 1501657493.0]</td>\n",
       "      <td>[1367280000000, 0.0]</td>\n",
       "    </tr>\n",
       "    <tr>\n",
       "      <th>3</th>\n",
       "      <td>[1367366400000, 117.0]</td>\n",
       "      <td>[1367366400000, 1298951550.0]</td>\n",
       "      <td>[1367366400000, 0.0]</td>\n",
       "    </tr>\n",
       "    <tr>\n",
       "      <th>4</th>\n",
       "      <td>[1367452800000, 103.43]</td>\n",
       "      <td>[1367452800000, 1148667722.0]</td>\n",
       "      <td>[1367452800000, 0.0]</td>\n",
       "    </tr>\n",
       "  </tbody>\n",
       "</table>\n",
       "</div>"
      ],
      "text/plain": [
       "                    prices                    market_caps  \\\n",
       "0   [1367107200000, 135.3]    [1367107200000, 1500517590]   \n",
       "1  [1367193600000, 141.96]  [1367193600000, 1575032004.0]   \n",
       "2   [1367280000000, 135.3]  [1367280000000, 1501657493.0]   \n",
       "3   [1367366400000, 117.0]  [1367366400000, 1298951550.0]   \n",
       "4  [1367452800000, 103.43]  [1367452800000, 1148667722.0]   \n",
       "\n",
       "          total_volumes  \n",
       "0    [1367107200000, 0]  \n",
       "1  [1367193600000, 0.0]  \n",
       "2  [1367280000000, 0.0]  \n",
       "3  [1367366400000, 0.0]  \n",
       "4  [1367452800000, 0.0]  "
      ]
     },
     "execution_count": 59,
     "metadata": {},
     "output_type": "execute_result"
    }
   ],
   "source": [
    "btc_df.head()"
   ]
  },
  {
   "cell_type": "code",
   "execution_count": 60,
   "metadata": {},
   "outputs": [],
   "source": [
    "btc_df_cleaned = pd.DataFrame(btc_df)"
   ]
  },
  {
   "cell_type": "code",
   "execution_count": 61,
   "metadata": {},
   "outputs": [],
   "source": [
    "btc_df_cleaned[[\"times\",\"prices\"]] = pd.DataFrame(btc_df_cleaned.prices.tolist(),index= btc_df_cleaned.index)"
   ]
  },
  {
   "cell_type": "code",
   "execution_count": 62,
   "metadata": {},
   "outputs": [
    {
     "data": {
      "text/html": [
       "<div>\n",
       "<style scoped>\n",
       "    .dataframe tbody tr th:only-of-type {\n",
       "        vertical-align: middle;\n",
       "    }\n",
       "\n",
       "    .dataframe tbody tr th {\n",
       "        vertical-align: top;\n",
       "    }\n",
       "\n",
       "    .dataframe thead th {\n",
       "        text-align: right;\n",
       "    }\n",
       "</style>\n",
       "<table border=\"1\" class=\"dataframe\">\n",
       "  <thead>\n",
       "    <tr style=\"text-align: right;\">\n",
       "      <th></th>\n",
       "      <th>prices</th>\n",
       "      <th>market_caps</th>\n",
       "      <th>total_volumes</th>\n",
       "      <th>times</th>\n",
       "    </tr>\n",
       "  </thead>\n",
       "  <tbody>\n",
       "    <tr>\n",
       "      <th>0</th>\n",
       "      <td>135.30</td>\n",
       "      <td>[1367107200000, 1500517590]</td>\n",
       "      <td>[1367107200000, 0]</td>\n",
       "      <td>1367107200000</td>\n",
       "    </tr>\n",
       "    <tr>\n",
       "      <th>1</th>\n",
       "      <td>141.96</td>\n",
       "      <td>[1367193600000, 1575032004.0]</td>\n",
       "      <td>[1367193600000, 0.0]</td>\n",
       "      <td>1367193600000</td>\n",
       "    </tr>\n",
       "    <tr>\n",
       "      <th>2</th>\n",
       "      <td>135.30</td>\n",
       "      <td>[1367280000000, 1501657493.0]</td>\n",
       "      <td>[1367280000000, 0.0]</td>\n",
       "      <td>1367280000000</td>\n",
       "    </tr>\n",
       "    <tr>\n",
       "      <th>3</th>\n",
       "      <td>117.00</td>\n",
       "      <td>[1367366400000, 1298951550.0]</td>\n",
       "      <td>[1367366400000, 0.0]</td>\n",
       "      <td>1367366400000</td>\n",
       "    </tr>\n",
       "    <tr>\n",
       "      <th>4</th>\n",
       "      <td>103.43</td>\n",
       "      <td>[1367452800000, 1148667722.0]</td>\n",
       "      <td>[1367452800000, 0.0]</td>\n",
       "      <td>1367452800000</td>\n",
       "    </tr>\n",
       "  </tbody>\n",
       "</table>\n",
       "</div>"
      ],
      "text/plain": [
       "   prices                    market_caps         total_volumes          times\n",
       "0  135.30    [1367107200000, 1500517590]    [1367107200000, 0]  1367107200000\n",
       "1  141.96  [1367193600000, 1575032004.0]  [1367193600000, 0.0]  1367193600000\n",
       "2  135.30  [1367280000000, 1501657493.0]  [1367280000000, 0.0]  1367280000000\n",
       "3  117.00  [1367366400000, 1298951550.0]  [1367366400000, 0.0]  1367366400000\n",
       "4  103.43  [1367452800000, 1148667722.0]  [1367452800000, 0.0]  1367452800000"
      ]
     },
     "execution_count": 62,
     "metadata": {},
     "output_type": "execute_result"
    }
   ],
   "source": [
    "btc_df_cleaned.head()"
   ]
  },
  {
   "cell_type": "code",
   "execution_count": 63,
   "metadata": {},
   "outputs": [],
   "source": [
    "btc_df_cleaned[[\"times\",\"market_caps\"]] = pd.DataFrame(btc_df_cleaned.market_caps.tolist(),index= btc_df_cleaned.index)"
   ]
  },
  {
   "cell_type": "code",
   "execution_count": 64,
   "metadata": {},
   "outputs": [],
   "source": [
    "btc_df_cleaned[[\"times\",\"total_volumes\"]] = pd.DataFrame(btc_df_cleaned.total_volumes.tolist(),index= btc_df_cleaned.index)"
   ]
  },
  {
   "cell_type": "code",
   "execution_count": 65,
   "metadata": {},
   "outputs": [
    {
     "data": {
      "text/html": [
       "<div>\n",
       "<style scoped>\n",
       "    .dataframe tbody tr th:only-of-type {\n",
       "        vertical-align: middle;\n",
       "    }\n",
       "\n",
       "    .dataframe tbody tr th {\n",
       "        vertical-align: top;\n",
       "    }\n",
       "\n",
       "    .dataframe thead th {\n",
       "        text-align: right;\n",
       "    }\n",
       "</style>\n",
       "<table border=\"1\" class=\"dataframe\">\n",
       "  <thead>\n",
       "    <tr style=\"text-align: right;\">\n",
       "      <th></th>\n",
       "      <th>prices</th>\n",
       "      <th>market_caps</th>\n",
       "      <th>total_volumes</th>\n",
       "      <th>times</th>\n",
       "    </tr>\n",
       "  </thead>\n",
       "  <tbody>\n",
       "    <tr>\n",
       "      <th>0</th>\n",
       "      <td>135.30</td>\n",
       "      <td>1.500518e+09</td>\n",
       "      <td>0.0</td>\n",
       "      <td>1367107200000</td>\n",
       "    </tr>\n",
       "    <tr>\n",
       "      <th>1</th>\n",
       "      <td>141.96</td>\n",
       "      <td>1.575032e+09</td>\n",
       "      <td>0.0</td>\n",
       "      <td>1367193600000</td>\n",
       "    </tr>\n",
       "    <tr>\n",
       "      <th>2</th>\n",
       "      <td>135.30</td>\n",
       "      <td>1.501657e+09</td>\n",
       "      <td>0.0</td>\n",
       "      <td>1367280000000</td>\n",
       "    </tr>\n",
       "    <tr>\n",
       "      <th>3</th>\n",
       "      <td>117.00</td>\n",
       "      <td>1.298952e+09</td>\n",
       "      <td>0.0</td>\n",
       "      <td>1367366400000</td>\n",
       "    </tr>\n",
       "    <tr>\n",
       "      <th>4</th>\n",
       "      <td>103.43</td>\n",
       "      <td>1.148668e+09</td>\n",
       "      <td>0.0</td>\n",
       "      <td>1367452800000</td>\n",
       "    </tr>\n",
       "  </tbody>\n",
       "</table>\n",
       "</div>"
      ],
      "text/plain": [
       "   prices   market_caps  total_volumes          times\n",
       "0  135.30  1.500518e+09            0.0  1367107200000\n",
       "1  141.96  1.575032e+09            0.0  1367193600000\n",
       "2  135.30  1.501657e+09            0.0  1367280000000\n",
       "3  117.00  1.298952e+09            0.0  1367366400000\n",
       "4  103.43  1.148668e+09            0.0  1367452800000"
      ]
     },
     "execution_count": 65,
     "metadata": {},
     "output_type": "execute_result"
    }
   ],
   "source": [
    "btc_df_cleaned.head()"
   ]
  },
  {
   "cell_type": "code",
   "execution_count": 66,
   "metadata": {},
   "outputs": [
    {
     "data": {
      "text/html": [
       "<div>\n",
       "<style scoped>\n",
       "    .dataframe tbody tr th:only-of-type {\n",
       "        vertical-align: middle;\n",
       "    }\n",
       "\n",
       "    .dataframe tbody tr th {\n",
       "        vertical-align: top;\n",
       "    }\n",
       "\n",
       "    .dataframe thead th {\n",
       "        text-align: right;\n",
       "    }\n",
       "</style>\n",
       "<table border=\"1\" class=\"dataframe\">\n",
       "  <thead>\n",
       "    <tr style=\"text-align: right;\">\n",
       "      <th></th>\n",
       "      <th>prices</th>\n",
       "      <th>market_caps</th>\n",
       "      <th>total_volumes</th>\n",
       "      <th>times</th>\n",
       "    </tr>\n",
       "  </thead>\n",
       "  <tbody>\n",
       "    <tr>\n",
       "      <th>0</th>\n",
       "      <td>135.300000</td>\n",
       "      <td>1.500518e+09</td>\n",
       "      <td>0.000000e+00</td>\n",
       "      <td>1367107200000</td>\n",
       "    </tr>\n",
       "    <tr>\n",
       "      <th>1</th>\n",
       "      <td>141.960000</td>\n",
       "      <td>1.575032e+09</td>\n",
       "      <td>0.000000e+00</td>\n",
       "      <td>1367193600000</td>\n",
       "    </tr>\n",
       "    <tr>\n",
       "      <th>2</th>\n",
       "      <td>135.300000</td>\n",
       "      <td>1.501657e+09</td>\n",
       "      <td>0.000000e+00</td>\n",
       "      <td>1367280000000</td>\n",
       "    </tr>\n",
       "    <tr>\n",
       "      <th>3</th>\n",
       "      <td>117.000000</td>\n",
       "      <td>1.298952e+09</td>\n",
       "      <td>0.000000e+00</td>\n",
       "      <td>1367366400000</td>\n",
       "    </tr>\n",
       "    <tr>\n",
       "      <th>4</th>\n",
       "      <td>103.430000</td>\n",
       "      <td>1.148668e+09</td>\n",
       "      <td>0.000000e+00</td>\n",
       "      <td>1367452800000</td>\n",
       "    </tr>\n",
       "    <tr>\n",
       "      <th>...</th>\n",
       "      <td>...</td>\n",
       "      <td>...</td>\n",
       "      <td>...</td>\n",
       "      <td>...</td>\n",
       "    </tr>\n",
       "    <tr>\n",
       "      <th>3035</th>\n",
       "      <td>49195.878602</td>\n",
       "      <td>9.230134e+11</td>\n",
       "      <td>3.649709e+10</td>\n",
       "      <td>1629504000000</td>\n",
       "    </tr>\n",
       "    <tr>\n",
       "      <th>3036</th>\n",
       "      <td>48933.689151</td>\n",
       "      <td>9.207502e+11</td>\n",
       "      <td>4.214773e+10</td>\n",
       "      <td>1629590400000</td>\n",
       "    </tr>\n",
       "    <tr>\n",
       "      <th>3037</th>\n",
       "      <td>49250.544870</td>\n",
       "      <td>9.256301e+11</td>\n",
       "      <td>2.711018e+10</td>\n",
       "      <td>1629676800000</td>\n",
       "    </tr>\n",
       "    <tr>\n",
       "      <th>3038</th>\n",
       "      <td>49518.577488</td>\n",
       "      <td>9.307292e+11</td>\n",
       "      <td>3.580026e+10</td>\n",
       "      <td>1629763200000</td>\n",
       "    </tr>\n",
       "    <tr>\n",
       "      <th>3039</th>\n",
       "      <td>49266.450061</td>\n",
       "      <td>9.243797e+11</td>\n",
       "      <td>3.606152e+10</td>\n",
       "      <td>1629774205000</td>\n",
       "    </tr>\n",
       "  </tbody>\n",
       "</table>\n",
       "<p>3040 rows × 4 columns</p>\n",
       "</div>"
      ],
      "text/plain": [
       "            prices   market_caps  total_volumes          times\n",
       "0       135.300000  1.500518e+09   0.000000e+00  1367107200000\n",
       "1       141.960000  1.575032e+09   0.000000e+00  1367193600000\n",
       "2       135.300000  1.501657e+09   0.000000e+00  1367280000000\n",
       "3       117.000000  1.298952e+09   0.000000e+00  1367366400000\n",
       "4       103.430000  1.148668e+09   0.000000e+00  1367452800000\n",
       "...            ...           ...            ...            ...\n",
       "3035  49195.878602  9.230134e+11   3.649709e+10  1629504000000\n",
       "3036  48933.689151  9.207502e+11   4.214773e+10  1629590400000\n",
       "3037  49250.544870  9.256301e+11   2.711018e+10  1629676800000\n",
       "3038  49518.577488  9.307292e+11   3.580026e+10  1629763200000\n",
       "3039  49266.450061  9.243797e+11   3.606152e+10  1629774205000\n",
       "\n",
       "[3040 rows x 4 columns]"
      ]
     },
     "execution_count": 66,
     "metadata": {},
     "output_type": "execute_result"
    }
   ],
   "source": [
    "btc_df_cleaned"
   ]
  },
  {
   "cell_type": "code",
   "execution_count": 67,
   "metadata": {},
   "outputs": [],
   "source": [
    "test_time = 1367107200000"
   ]
  },
  {
   "cell_type": "code",
   "execution_count": 68,
   "metadata": {},
   "outputs": [
    {
     "data": {
      "text/plain": [
       "1367107200000"
      ]
     },
     "execution_count": 68,
     "metadata": {},
     "output_type": "execute_result"
    }
   ],
   "source": [
    "test_time"
   ]
  },
  {
   "cell_type": "code",
   "execution_count": 69,
   "metadata": {},
   "outputs": [
    {
     "data": {
      "text/plain": [
       "prices           float64\n",
       "market_caps      float64\n",
       "total_volumes    float64\n",
       "times              int64\n",
       "dtype: object"
      ]
     },
     "execution_count": 69,
     "metadata": {},
     "output_type": "execute_result"
    }
   ],
   "source": [
    "btc_df_cleaned.dtypes"
   ]
  },
  {
   "cell_type": "code",
   "execution_count": 70,
   "metadata": {},
   "outputs": [
    {
     "data": {
      "text/html": [
       "<div>\n",
       "<style scoped>\n",
       "    .dataframe tbody tr th:only-of-type {\n",
       "        vertical-align: middle;\n",
       "    }\n",
       "\n",
       "    .dataframe tbody tr th {\n",
       "        vertical-align: top;\n",
       "    }\n",
       "\n",
       "    .dataframe thead th {\n",
       "        text-align: right;\n",
       "    }\n",
       "</style>\n",
       "<table border=\"1\" class=\"dataframe\">\n",
       "  <thead>\n",
       "    <tr style=\"text-align: right;\">\n",
       "      <th></th>\n",
       "      <th>prices</th>\n",
       "      <th>market_caps</th>\n",
       "      <th>total_volumes</th>\n",
       "      <th>times</th>\n",
       "    </tr>\n",
       "  </thead>\n",
       "  <tbody>\n",
       "    <tr>\n",
       "      <th>0</th>\n",
       "      <td>135.300000</td>\n",
       "      <td>1.500518e+09</td>\n",
       "      <td>0.000000e+00</td>\n",
       "      <td>2013-04-28 00:00:00</td>\n",
       "    </tr>\n",
       "    <tr>\n",
       "      <th>1</th>\n",
       "      <td>141.960000</td>\n",
       "      <td>1.575032e+09</td>\n",
       "      <td>0.000000e+00</td>\n",
       "      <td>2013-04-29 00:00:00</td>\n",
       "    </tr>\n",
       "    <tr>\n",
       "      <th>2</th>\n",
       "      <td>135.300000</td>\n",
       "      <td>1.501657e+09</td>\n",
       "      <td>0.000000e+00</td>\n",
       "      <td>2013-04-30 00:00:00</td>\n",
       "    </tr>\n",
       "    <tr>\n",
       "      <th>3</th>\n",
       "      <td>117.000000</td>\n",
       "      <td>1.298952e+09</td>\n",
       "      <td>0.000000e+00</td>\n",
       "      <td>2013-05-01 00:00:00</td>\n",
       "    </tr>\n",
       "    <tr>\n",
       "      <th>4</th>\n",
       "      <td>103.430000</td>\n",
       "      <td>1.148668e+09</td>\n",
       "      <td>0.000000e+00</td>\n",
       "      <td>2013-05-02 00:00:00</td>\n",
       "    </tr>\n",
       "    <tr>\n",
       "      <th>...</th>\n",
       "      <td>...</td>\n",
       "      <td>...</td>\n",
       "      <td>...</td>\n",
       "      <td>...</td>\n",
       "    </tr>\n",
       "    <tr>\n",
       "      <th>3035</th>\n",
       "      <td>49195.878602</td>\n",
       "      <td>9.230134e+11</td>\n",
       "      <td>3.649709e+10</td>\n",
       "      <td>2021-08-21 00:00:00</td>\n",
       "    </tr>\n",
       "    <tr>\n",
       "      <th>3036</th>\n",
       "      <td>48933.689151</td>\n",
       "      <td>9.207502e+11</td>\n",
       "      <td>4.214773e+10</td>\n",
       "      <td>2021-08-22 00:00:00</td>\n",
       "    </tr>\n",
       "    <tr>\n",
       "      <th>3037</th>\n",
       "      <td>49250.544870</td>\n",
       "      <td>9.256301e+11</td>\n",
       "      <td>2.711018e+10</td>\n",
       "      <td>2021-08-23 00:00:00</td>\n",
       "    </tr>\n",
       "    <tr>\n",
       "      <th>3038</th>\n",
       "      <td>49518.577488</td>\n",
       "      <td>9.307292e+11</td>\n",
       "      <td>3.580026e+10</td>\n",
       "      <td>2021-08-24 00:00:00</td>\n",
       "    </tr>\n",
       "    <tr>\n",
       "      <th>3039</th>\n",
       "      <td>49266.450061</td>\n",
       "      <td>9.243797e+11</td>\n",
       "      <td>3.606152e+10</td>\n",
       "      <td>2021-08-24 03:03:25</td>\n",
       "    </tr>\n",
       "  </tbody>\n",
       "</table>\n",
       "<p>3040 rows × 4 columns</p>\n",
       "</div>"
      ],
      "text/plain": [
       "            prices   market_caps  total_volumes               times\n",
       "0       135.300000  1.500518e+09   0.000000e+00 2013-04-28 00:00:00\n",
       "1       141.960000  1.575032e+09   0.000000e+00 2013-04-29 00:00:00\n",
       "2       135.300000  1.501657e+09   0.000000e+00 2013-04-30 00:00:00\n",
       "3       117.000000  1.298952e+09   0.000000e+00 2013-05-01 00:00:00\n",
       "4       103.430000  1.148668e+09   0.000000e+00 2013-05-02 00:00:00\n",
       "...            ...           ...            ...                 ...\n",
       "3035  49195.878602  9.230134e+11   3.649709e+10 2021-08-21 00:00:00\n",
       "3036  48933.689151  9.207502e+11   4.214773e+10 2021-08-22 00:00:00\n",
       "3037  49250.544870  9.256301e+11   2.711018e+10 2021-08-23 00:00:00\n",
       "3038  49518.577488  9.307292e+11   3.580026e+10 2021-08-24 00:00:00\n",
       "3039  49266.450061  9.243797e+11   3.606152e+10 2021-08-24 03:03:25\n",
       "\n",
       "[3040 rows x 4 columns]"
      ]
     },
     "execution_count": 70,
     "metadata": {},
     "output_type": "execute_result"
    }
   ],
   "source": [
    "start = dt.datetime(1970, 1, 1)  # Unix epoch start time\n",
    "btc_df_cleaned.times = btc_df_cleaned.times.apply(lambda x: start + timedelta(seconds=x/1000))\n",
    "btc_df_cleaned"
   ]
  },
  {
   "cell_type": "code",
   "execution_count": null,
   "metadata": {},
   "outputs": [],
   "source": []
  },
  {
   "cell_type": "code",
   "execution_count": null,
   "metadata": {},
   "outputs": [],
   "source": []
  },
  {
   "cell_type": "code",
   "execution_count": null,
   "metadata": {},
   "outputs": [],
   "source": []
  },
  {
   "cell_type": "code",
   "execution_count": null,
   "metadata": {},
   "outputs": [],
   "source": []
  },
  {
   "cell_type": "code",
   "execution_count": null,
   "metadata": {},
   "outputs": [],
   "source": []
  },
  {
   "cell_type": "code",
   "execution_count": null,
   "metadata": {},
   "outputs": [],
   "source": []
  },
  {
   "cell_type": "code",
   "execution_count": 18,
   "metadata": {},
   "outputs": [],
   "source": [
    "#btc_df_cleaned['times'] = pd.to_datetime(btc_df_cleaned['times'])"
   ]
  },
  {
   "cell_type": "code",
   "execution_count": 19,
   "metadata": {},
   "outputs": [
    {
     "data": {
      "text/html": [
       "<div>\n",
       "<style scoped>\n",
       "    .dataframe tbody tr th:only-of-type {\n",
       "        vertical-align: middle;\n",
       "    }\n",
       "\n",
       "    .dataframe tbody tr th {\n",
       "        vertical-align: top;\n",
       "    }\n",
       "\n",
       "    .dataframe thead th {\n",
       "        text-align: right;\n",
       "    }\n",
       "</style>\n",
       "<table border=\"1\" class=\"dataframe\">\n",
       "  <thead>\n",
       "    <tr style=\"text-align: right;\">\n",
       "      <th></th>\n",
       "      <th>prices</th>\n",
       "      <th>market_caps</th>\n",
       "      <th>total_volumes</th>\n",
       "      <th>times</th>\n",
       "    </tr>\n",
       "  </thead>\n",
       "  <tbody>\n",
       "    <tr>\n",
       "      <th>0</th>\n",
       "      <td>135.300000</td>\n",
       "      <td>1.500518e+09</td>\n",
       "      <td>0.000000e+00</td>\n",
       "      <td>1970-01-01 00:22:47.107200</td>\n",
       "    </tr>\n",
       "    <tr>\n",
       "      <th>1</th>\n",
       "      <td>141.960000</td>\n",
       "      <td>1.575032e+09</td>\n",
       "      <td>0.000000e+00</td>\n",
       "      <td>1970-01-01 00:22:47.193600</td>\n",
       "    </tr>\n",
       "    <tr>\n",
       "      <th>2</th>\n",
       "      <td>135.300000</td>\n",
       "      <td>1.501657e+09</td>\n",
       "      <td>0.000000e+00</td>\n",
       "      <td>1970-01-01 00:22:47.280000</td>\n",
       "    </tr>\n",
       "    <tr>\n",
       "      <th>3</th>\n",
       "      <td>117.000000</td>\n",
       "      <td>1.298952e+09</td>\n",
       "      <td>0.000000e+00</td>\n",
       "      <td>1970-01-01 00:22:47.366400</td>\n",
       "    </tr>\n",
       "    <tr>\n",
       "      <th>4</th>\n",
       "      <td>103.430000</td>\n",
       "      <td>1.148668e+09</td>\n",
       "      <td>0.000000e+00</td>\n",
       "      <td>1970-01-01 00:22:47.452800</td>\n",
       "    </tr>\n",
       "    <tr>\n",
       "      <th>...</th>\n",
       "      <td>...</td>\n",
       "      <td>...</td>\n",
       "      <td>...</td>\n",
       "      <td>...</td>\n",
       "    </tr>\n",
       "    <tr>\n",
       "      <th>3035</th>\n",
       "      <td>49195.878602</td>\n",
       "      <td>9.230134e+11</td>\n",
       "      <td>3.649709e+10</td>\n",
       "      <td>1970-01-01 00:27:09.504000</td>\n",
       "    </tr>\n",
       "    <tr>\n",
       "      <th>3036</th>\n",
       "      <td>48933.689151</td>\n",
       "      <td>9.207502e+11</td>\n",
       "      <td>4.214773e+10</td>\n",
       "      <td>1970-01-01 00:27:09.590400</td>\n",
       "    </tr>\n",
       "    <tr>\n",
       "      <th>3037</th>\n",
       "      <td>49250.544870</td>\n",
       "      <td>9.256301e+11</td>\n",
       "      <td>2.711018e+10</td>\n",
       "      <td>1970-01-01 00:27:09.676800</td>\n",
       "    </tr>\n",
       "    <tr>\n",
       "      <th>3038</th>\n",
       "      <td>49518.577488</td>\n",
       "      <td>9.307292e+11</td>\n",
       "      <td>3.580026e+10</td>\n",
       "      <td>1970-01-01 00:27:09.763200</td>\n",
       "    </tr>\n",
       "    <tr>\n",
       "      <th>3039</th>\n",
       "      <td>49266.450061</td>\n",
       "      <td>9.243797e+11</td>\n",
       "      <td>3.606152e+10</td>\n",
       "      <td>1970-01-01 00:27:09.774205</td>\n",
       "    </tr>\n",
       "  </tbody>\n",
       "</table>\n",
       "<p>3040 rows × 4 columns</p>\n",
       "</div>"
      ],
      "text/plain": [
       "            prices   market_caps  total_volumes                      times\n",
       "0       135.300000  1.500518e+09   0.000000e+00 1970-01-01 00:22:47.107200\n",
       "1       141.960000  1.575032e+09   0.000000e+00 1970-01-01 00:22:47.193600\n",
       "2       135.300000  1.501657e+09   0.000000e+00 1970-01-01 00:22:47.280000\n",
       "3       117.000000  1.298952e+09   0.000000e+00 1970-01-01 00:22:47.366400\n",
       "4       103.430000  1.148668e+09   0.000000e+00 1970-01-01 00:22:47.452800\n",
       "...            ...           ...            ...                        ...\n",
       "3035  49195.878602  9.230134e+11   3.649709e+10 1970-01-01 00:27:09.504000\n",
       "3036  48933.689151  9.207502e+11   4.214773e+10 1970-01-01 00:27:09.590400\n",
       "3037  49250.544870  9.256301e+11   2.711018e+10 1970-01-01 00:27:09.676800\n",
       "3038  49518.577488  9.307292e+11   3.580026e+10 1970-01-01 00:27:09.763200\n",
       "3039  49266.450061  9.243797e+11   3.606152e+10 1970-01-01 00:27:09.774205\n",
       "\n",
       "[3040 rows x 4 columns]"
      ]
     },
     "execution_count": 19,
     "metadata": {},
     "output_type": "execute_result"
    }
   ],
   "source": [
    "btc_df_cleaned"
   ]
  },
  {
   "cell_type": "code",
   "execution_count": null,
   "metadata": {},
   "outputs": [],
   "source": []
  },
  {
   "cell_type": "code",
   "execution_count": null,
   "metadata": {},
   "outputs": [],
   "source": []
  },
  {
   "cell_type": "code",
   "execution_count": 20,
   "metadata": {},
   "outputs": [
    {
     "ename": "TypeError",
     "evalue": "cannot astype a datetimelike from [datetime64[ns]] to [float64]",
     "output_type": "error",
     "traceback": [
      "\u001b[1;31m---------------------------------------------------------------------------\u001b[0m",
      "\u001b[1;31mTypeError\u001b[0m                                 Traceback (most recent call last)",
      "\u001b[1;32m<ipython-input-20-8d0b8eee152d>\u001b[0m in \u001b[0;36m<module>\u001b[1;34m\u001b[0m\n\u001b[1;32m----> 1\u001b[1;33m \u001b[0mbtc_df_cleaned\u001b[0m\u001b[1;33m.\u001b[0m\u001b[0mtimes\u001b[0m\u001b[1;33m.\u001b[0m\u001b[0mastype\u001b[0m\u001b[1;33m(\u001b[0m\u001b[1;34m\"float64\"\u001b[0m\u001b[1;33m)\u001b[0m\u001b[1;33m\u001b[0m\u001b[1;33m\u001b[0m\u001b[0m\n\u001b[0m",
      "\u001b[1;32m~\\anaconda3\\lib\\site-packages\\pandas\\core\\generic.py\u001b[0m in \u001b[0;36mastype\u001b[1;34m(self, dtype, copy, errors)\u001b[0m\n\u001b[0;32m   5544\u001b[0m         \u001b[1;32melse\u001b[0m\u001b[1;33m:\u001b[0m\u001b[1;33m\u001b[0m\u001b[1;33m\u001b[0m\u001b[0m\n\u001b[0;32m   5545\u001b[0m             \u001b[1;31m# else, only a single dtype is given\u001b[0m\u001b[1;33m\u001b[0m\u001b[1;33m\u001b[0m\u001b[1;33m\u001b[0m\u001b[0m\n\u001b[1;32m-> 5546\u001b[1;33m             \u001b[0mnew_data\u001b[0m \u001b[1;33m=\u001b[0m \u001b[0mself\u001b[0m\u001b[1;33m.\u001b[0m\u001b[0m_mgr\u001b[0m\u001b[1;33m.\u001b[0m\u001b[0mastype\u001b[0m\u001b[1;33m(\u001b[0m\u001b[0mdtype\u001b[0m\u001b[1;33m=\u001b[0m\u001b[0mdtype\u001b[0m\u001b[1;33m,\u001b[0m \u001b[0mcopy\u001b[0m\u001b[1;33m=\u001b[0m\u001b[0mcopy\u001b[0m\u001b[1;33m,\u001b[0m \u001b[0merrors\u001b[0m\u001b[1;33m=\u001b[0m\u001b[0merrors\u001b[0m\u001b[1;33m,\u001b[0m\u001b[1;33m)\u001b[0m\u001b[1;33m\u001b[0m\u001b[1;33m\u001b[0m\u001b[0m\n\u001b[0m\u001b[0;32m   5547\u001b[0m             \u001b[1;32mreturn\u001b[0m \u001b[0mself\u001b[0m\u001b[1;33m.\u001b[0m\u001b[0m_constructor\u001b[0m\u001b[1;33m(\u001b[0m\u001b[0mnew_data\u001b[0m\u001b[1;33m)\u001b[0m\u001b[1;33m.\u001b[0m\u001b[0m__finalize__\u001b[0m\u001b[1;33m(\u001b[0m\u001b[0mself\u001b[0m\u001b[1;33m,\u001b[0m \u001b[0mmethod\u001b[0m\u001b[1;33m=\u001b[0m\u001b[1;34m\"astype\"\u001b[0m\u001b[1;33m)\u001b[0m\u001b[1;33m\u001b[0m\u001b[1;33m\u001b[0m\u001b[0m\n\u001b[0;32m   5548\u001b[0m \u001b[1;33m\u001b[0m\u001b[0m\n",
      "\u001b[1;32m~\\anaconda3\\lib\\site-packages\\pandas\\core\\internals\\managers.py\u001b[0m in \u001b[0;36mastype\u001b[1;34m(self, dtype, copy, errors)\u001b[0m\n\u001b[0;32m    593\u001b[0m         \u001b[0mself\u001b[0m\u001b[1;33m,\u001b[0m \u001b[0mdtype\u001b[0m\u001b[1;33m,\u001b[0m \u001b[0mcopy\u001b[0m\u001b[1;33m:\u001b[0m \u001b[0mbool\u001b[0m \u001b[1;33m=\u001b[0m \u001b[1;32mFalse\u001b[0m\u001b[1;33m,\u001b[0m \u001b[0merrors\u001b[0m\u001b[1;33m:\u001b[0m \u001b[0mstr\u001b[0m \u001b[1;33m=\u001b[0m \u001b[1;34m\"raise\"\u001b[0m\u001b[1;33m\u001b[0m\u001b[1;33m\u001b[0m\u001b[0m\n\u001b[0;32m    594\u001b[0m     ) -> \"BlockManager\":\n\u001b[1;32m--> 595\u001b[1;33m         \u001b[1;32mreturn\u001b[0m \u001b[0mself\u001b[0m\u001b[1;33m.\u001b[0m\u001b[0mapply\u001b[0m\u001b[1;33m(\u001b[0m\u001b[1;34m\"astype\"\u001b[0m\u001b[1;33m,\u001b[0m \u001b[0mdtype\u001b[0m\u001b[1;33m=\u001b[0m\u001b[0mdtype\u001b[0m\u001b[1;33m,\u001b[0m \u001b[0mcopy\u001b[0m\u001b[1;33m=\u001b[0m\u001b[0mcopy\u001b[0m\u001b[1;33m,\u001b[0m \u001b[0merrors\u001b[0m\u001b[1;33m=\u001b[0m\u001b[0merrors\u001b[0m\u001b[1;33m)\u001b[0m\u001b[1;33m\u001b[0m\u001b[1;33m\u001b[0m\u001b[0m\n\u001b[0m\u001b[0;32m    596\u001b[0m \u001b[1;33m\u001b[0m\u001b[0m\n\u001b[0;32m    597\u001b[0m     def convert(\n",
      "\u001b[1;32m~\\anaconda3\\lib\\site-packages\\pandas\\core\\internals\\managers.py\u001b[0m in \u001b[0;36mapply\u001b[1;34m(self, f, align_keys, **kwargs)\u001b[0m\n\u001b[0;32m    404\u001b[0m                 \u001b[0mapplied\u001b[0m \u001b[1;33m=\u001b[0m \u001b[0mb\u001b[0m\u001b[1;33m.\u001b[0m\u001b[0mapply\u001b[0m\u001b[1;33m(\u001b[0m\u001b[0mf\u001b[0m\u001b[1;33m,\u001b[0m \u001b[1;33m**\u001b[0m\u001b[0mkwargs\u001b[0m\u001b[1;33m)\u001b[0m\u001b[1;33m\u001b[0m\u001b[1;33m\u001b[0m\u001b[0m\n\u001b[0;32m    405\u001b[0m             \u001b[1;32melse\u001b[0m\u001b[1;33m:\u001b[0m\u001b[1;33m\u001b[0m\u001b[1;33m\u001b[0m\u001b[0m\n\u001b[1;32m--> 406\u001b[1;33m                 \u001b[0mapplied\u001b[0m \u001b[1;33m=\u001b[0m \u001b[0mgetattr\u001b[0m\u001b[1;33m(\u001b[0m\u001b[0mb\u001b[0m\u001b[1;33m,\u001b[0m \u001b[0mf\u001b[0m\u001b[1;33m)\u001b[0m\u001b[1;33m(\u001b[0m\u001b[1;33m**\u001b[0m\u001b[0mkwargs\u001b[0m\u001b[1;33m)\u001b[0m\u001b[1;33m\u001b[0m\u001b[1;33m\u001b[0m\u001b[0m\n\u001b[0m\u001b[0;32m    407\u001b[0m             \u001b[0mresult_blocks\u001b[0m \u001b[1;33m=\u001b[0m \u001b[0m_extend_blocks\u001b[0m\u001b[1;33m(\u001b[0m\u001b[0mapplied\u001b[0m\u001b[1;33m,\u001b[0m \u001b[0mresult_blocks\u001b[0m\u001b[1;33m)\u001b[0m\u001b[1;33m\u001b[0m\u001b[1;33m\u001b[0m\u001b[0m\n\u001b[0;32m    408\u001b[0m \u001b[1;33m\u001b[0m\u001b[0m\n",
      "\u001b[1;32m~\\anaconda3\\lib\\site-packages\\pandas\\core\\internals\\blocks.py\u001b[0m in \u001b[0;36mastype\u001b[1;34m(self, dtype, copy, errors)\u001b[0m\n\u001b[0;32m   2098\u001b[0m \u001b[1;33m\u001b[0m\u001b[0m\n\u001b[0;32m   2099\u001b[0m         \u001b[1;31m# delegate\u001b[0m\u001b[1;33m\u001b[0m\u001b[1;33m\u001b[0m\u001b[1;33m\u001b[0m\u001b[0m\n\u001b[1;32m-> 2100\u001b[1;33m         \u001b[1;32mreturn\u001b[0m \u001b[0msuper\u001b[0m\u001b[1;33m(\u001b[0m\u001b[1;33m)\u001b[0m\u001b[1;33m.\u001b[0m\u001b[0mastype\u001b[0m\u001b[1;33m(\u001b[0m\u001b[0mdtype\u001b[0m\u001b[1;33m=\u001b[0m\u001b[0mdtype\u001b[0m\u001b[1;33m,\u001b[0m \u001b[0mcopy\u001b[0m\u001b[1;33m=\u001b[0m\u001b[0mcopy\u001b[0m\u001b[1;33m,\u001b[0m \u001b[0merrors\u001b[0m\u001b[1;33m=\u001b[0m\u001b[0merrors\u001b[0m\u001b[1;33m)\u001b[0m\u001b[1;33m\u001b[0m\u001b[1;33m\u001b[0m\u001b[0m\n\u001b[0m\u001b[0;32m   2101\u001b[0m \u001b[1;33m\u001b[0m\u001b[0m\n\u001b[0;32m   2102\u001b[0m     \u001b[1;32mdef\u001b[0m \u001b[0m_can_hold_element\u001b[0m\u001b[1;33m(\u001b[0m\u001b[0mself\u001b[0m\u001b[1;33m,\u001b[0m \u001b[0melement\u001b[0m\u001b[1;33m:\u001b[0m \u001b[0mAny\u001b[0m\u001b[1;33m)\u001b[0m \u001b[1;33m->\u001b[0m \u001b[0mbool\u001b[0m\u001b[1;33m:\u001b[0m\u001b[1;33m\u001b[0m\u001b[1;33m\u001b[0m\u001b[0m\n",
      "\u001b[1;32m~\\anaconda3\\lib\\site-packages\\pandas\\core\\internals\\blocks.py\u001b[0m in \u001b[0;36mastype\u001b[1;34m(self, dtype, copy, errors)\u001b[0m\n\u001b[0;32m    593\u001b[0m             \u001b[0mvals1d\u001b[0m \u001b[1;33m=\u001b[0m \u001b[0mvalues\u001b[0m\u001b[1;33m.\u001b[0m\u001b[0mravel\u001b[0m\u001b[1;33m(\u001b[0m\u001b[1;33m)\u001b[0m\u001b[1;33m\u001b[0m\u001b[1;33m\u001b[0m\u001b[0m\n\u001b[0;32m    594\u001b[0m             \u001b[1;32mtry\u001b[0m\u001b[1;33m:\u001b[0m\u001b[1;33m\u001b[0m\u001b[1;33m\u001b[0m\u001b[0m\n\u001b[1;32m--> 595\u001b[1;33m                 \u001b[0mvalues\u001b[0m \u001b[1;33m=\u001b[0m \u001b[0mastype_nansafe\u001b[0m\u001b[1;33m(\u001b[0m\u001b[0mvals1d\u001b[0m\u001b[1;33m,\u001b[0m \u001b[0mdtype\u001b[0m\u001b[1;33m,\u001b[0m \u001b[0mcopy\u001b[0m\u001b[1;33m=\u001b[0m\u001b[1;32mTrue\u001b[0m\u001b[1;33m)\u001b[0m\u001b[1;33m\u001b[0m\u001b[1;33m\u001b[0m\u001b[0m\n\u001b[0m\u001b[0;32m    596\u001b[0m             \u001b[1;32mexcept\u001b[0m \u001b[1;33m(\u001b[0m\u001b[0mValueError\u001b[0m\u001b[1;33m,\u001b[0m \u001b[0mTypeError\u001b[0m\u001b[1;33m)\u001b[0m\u001b[1;33m:\u001b[0m\u001b[1;33m\u001b[0m\u001b[1;33m\u001b[0m\u001b[0m\n\u001b[0;32m    597\u001b[0m                 \u001b[1;31m# e.g. astype_nansafe can fail on object-dtype of strings\u001b[0m\u001b[1;33m\u001b[0m\u001b[1;33m\u001b[0m\u001b[1;33m\u001b[0m\u001b[0m\n",
      "\u001b[1;32m~\\anaconda3\\lib\\site-packages\\pandas\\core\\dtypes\\cast.py\u001b[0m in \u001b[0;36mastype_nansafe\u001b[1;34m(arr, dtype, copy, skipna)\u001b[0m\n\u001b[0;32m    937\u001b[0m             \u001b[1;32mreturn\u001b[0m \u001b[0marr\u001b[0m\u001b[1;33m.\u001b[0m\u001b[0mastype\u001b[0m\u001b[1;33m(\u001b[0m\u001b[0mdtype\u001b[0m\u001b[1;33m)\u001b[0m\u001b[1;33m\u001b[0m\u001b[1;33m\u001b[0m\u001b[0m\n\u001b[0;32m    938\u001b[0m \u001b[1;33m\u001b[0m\u001b[0m\n\u001b[1;32m--> 939\u001b[1;33m         \u001b[1;32mraise\u001b[0m \u001b[0mTypeError\u001b[0m\u001b[1;33m(\u001b[0m\u001b[1;34mf\"cannot astype a datetimelike from [{arr.dtype}] to [{dtype}]\"\u001b[0m\u001b[1;33m)\u001b[0m\u001b[1;33m\u001b[0m\u001b[1;33m\u001b[0m\u001b[0m\n\u001b[0m\u001b[0;32m    940\u001b[0m \u001b[1;33m\u001b[0m\u001b[0m\n\u001b[0;32m    941\u001b[0m     \u001b[1;32melif\u001b[0m \u001b[0mis_timedelta64_dtype\u001b[0m\u001b[1;33m(\u001b[0m\u001b[0marr\u001b[0m\u001b[1;33m)\u001b[0m\u001b[1;33m:\u001b[0m\u001b[1;33m\u001b[0m\u001b[1;33m\u001b[0m\u001b[0m\n",
      "\u001b[1;31mTypeError\u001b[0m: cannot astype a datetimelike from [datetime64[ns]] to [float64]"
     ]
    }
   ],
   "source": [
    "btc_df_cleaned.times.astype(\"float64\")"
   ]
  },
  {
   "cell_type": "code",
   "execution_count": null,
   "metadata": {},
   "outputs": [],
   "source": [
    "btc_df_cleaned.times = btc_df_cleaned.times.astype(\"float64\")"
   ]
  },
  {
   "cell_type": "code",
   "execution_count": null,
   "metadata": {},
   "outputs": [],
   "source": [
    "btc_df_cleaned.dtypes"
   ]
  },
  {
   "cell_type": "code",
   "execution_count": null,
   "metadata": {},
   "outputs": [],
   "source": [
    "#btc_df_cleaned['times'] = pd.to_datetime(btc_df_cleaned['times'],unit='s')\n",
    "\n",
    "btc_df_cleaned['times'] = pd.to_datetime(btc_df_cleaned['times'])"
   ]
  },
  {
   "cell_type": "code",
   "execution_count": null,
   "metadata": {},
   "outputs": [],
   "source": [
    "btc_df_cleaned"
   ]
  },
  {
   "cell_type": "code",
   "execution_count": null,
   "metadata": {},
   "outputs": [],
   "source": [
    "btc_df_cleaned['times'] = pd.to_datetime(btc_df_cleaned['times'])\n",
    "btc_df_cleaned['times'] = btc_df_cleaned['times'].dt.date\n",
    "    "
   ]
  },
  {
   "cell_type": "code",
   "execution_count": null,
   "metadata": {
    "scrolled": false
   },
   "outputs": [],
   "source": [
    "btc_df_cleaned"
   ]
  },
  {
   "cell_type": "code",
   "execution_count": null,
   "metadata": {},
   "outputs": [],
   "source": []
  },
  {
   "cell_type": "code",
   "execution_count": null,
   "metadata": {},
   "outputs": [],
   "source": []
  },
  {
   "cell_type": "code",
   "execution_count": null,
   "metadata": {},
   "outputs": [],
   "source": []
  },
  {
   "cell_type": "code",
   "execution_count": null,
   "metadata": {},
   "outputs": [],
   "source": []
  },
  {
   "cell_type": "code",
   "execution_count": null,
   "metadata": {},
   "outputs": [],
   "source": []
  },
  {
   "cell_type": "code",
   "execution_count": null,
   "metadata": {},
   "outputs": [],
   "source": []
  },
  {
   "cell_type": "code",
   "execution_count": null,
   "metadata": {},
   "outputs": [],
   "source": []
  },
  {
   "cell_type": "code",
   "execution_count": null,
   "metadata": {},
   "outputs": [],
   "source": []
  },
  {
   "cell_type": "code",
   "execution_count": null,
   "metadata": {},
   "outputs": [],
   "source": [
    "btc_df_cleaned.to_csv(\"test_btc_df.csv\", encoding='utf-8', index=False)"
   ]
  },
  {
   "cell_type": "code",
   "execution_count": null,
   "metadata": {},
   "outputs": [],
   "source": []
  }
 ],
 "metadata": {
  "kernelspec": {
   "display_name": "Python 3",
   "language": "python",
   "name": "python3"
  },
  "language_info": {
   "codemirror_mode": {
    "name": "ipython",
    "version": 3
   },
   "file_extension": ".py",
   "mimetype": "text/x-python",
   "name": "python",
   "nbconvert_exporter": "python",
   "pygments_lexer": "ipython3",
   "version": "3.8.5"
  }
 },
 "nbformat": 4,
 "nbformat_minor": 4
}

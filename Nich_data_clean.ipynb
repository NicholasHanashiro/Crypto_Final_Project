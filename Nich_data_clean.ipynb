{
 "cells": [
  {
   "cell_type": "code",
   "execution_count": 1,
   "metadata": {},
   "outputs": [
    {
     "name": "stdout",
     "output_type": "stream",
     "text": [
      "Requirement already satisfied: pycoingecko in c:\\users\\nicho\\anaconda3\\lib\\site-packages (2.2.0)\n",
      "Requirement already satisfied: requests in c:\\users\\nicho\\anaconda3\\lib\\site-packages (from pycoingecko) (2.24.0)\n",
      "Requirement already satisfied: urllib3!=1.25.0,!=1.25.1,<1.26,>=1.21.1 in c:\\users\\nicho\\anaconda3\\lib\\site-packages (from requests->pycoingecko) (1.25.11)\n",
      "Requirement already satisfied: certifi>=2017.4.17 in c:\\users\\nicho\\anaconda3\\lib\\site-packages (from requests->pycoingecko) (2020.6.20)\n",
      "Requirement already satisfied: chardet<4,>=3.0.2 in c:\\users\\nicho\\anaconda3\\lib\\site-packages (from requests->pycoingecko) (3.0.4)\n",
      "Requirement already satisfied: idna<3,>=2.5 in c:\\users\\nicho\\anaconda3\\lib\\site-packages (from requests->pycoingecko) (2.10)\n",
      "Note: you may need to restart the kernel to use updated packages.\n"
     ]
    }
   ],
   "source": [
    "pip install pycoingecko"
   ]
  },
  {
   "cell_type": "code",
   "execution_count": 2,
   "metadata": {},
   "outputs": [],
   "source": [
    "#necessary imports\n",
    "\n",
    "from pycoingecko import CoinGeckoAPI\n",
    "cg = CoinGeckoAPI()\n",
    "\n",
    "import datetime as dt\n",
    "from datetime import timedelta\n",
    "import pandas as pd\n",
    "import numpy as np"
   ]
  },
  {
   "cell_type": "code",
   "execution_count": 3,
   "metadata": {},
   "outputs": [],
   "source": [
    "# making btc dataframe, using 10000 days back to make sure i get as far back data as possible\n",
    "# needed to cross reference coingecko token api list, binance coin, ripple, and terra-luna non standard naming schemes\n",
    "\n",
    "btc_df = pd.DataFrame(cg.get_coin_market_chart_by_id('bitcoin',vs_currency='usd',days = 10000,))\n",
    "eth_df = pd.DataFrame(cg.get_coin_market_chart_by_id('ethereum',vs_currency='usd',days = 10000,))\n",
    "ada_df = pd.DataFrame(cg.get_coin_market_chart_by_id('cardano',vs_currency='usd',days = 10000,))\n",
    "bnb_df = pd.DataFrame(cg.get_coin_market_chart_by_id('binancecoin',vs_currency='usd',days = 10000,))\n",
    "xrp_df = pd.DataFrame(cg.get_coin_market_chart_by_id('ripple',vs_currency='usd',days = 10000,))\n",
    "doge_df = pd.DataFrame(cg.get_coin_market_chart_by_id('dogecoin',vs_currency='usd',days = 10000,))\n",
    "dot_df = pd.DataFrame(cg.get_coin_market_chart_by_id('polkadot',vs_currency='usd',days = 10000,))\n",
    "sol_df = pd.DataFrame(cg.get_coin_market_chart_by_id('solana',vs_currency='usd',days = 10000,))\n",
    "uni_df = pd.DataFrame(cg.get_coin_market_chart_by_id('uniswap',vs_currency='usd',days = 10000,))\n",
    "luna_df = pd.DataFrame(cg.get_coin_market_chart_by_id('terra-luna',vs_currency='usd',days = 10000,))"
   ]
  },
  {
   "cell_type": "code",
   "execution_count": 4,
   "metadata": {},
   "outputs": [],
   "source": [
    "#removing unix time from the other columns\n",
    "\n",
    "btc_df[[\"Dates\",\"prices\"]] = pd.DataFrame(btc_df.prices.tolist(),index= btc_df.index)\n",
    "btc_df[[\"Dates\",\"market_caps\"]] = pd.DataFrame(btc_df.market_caps.tolist(),index= btc_df.index)\n",
    "btc_df[[\"Dates\",\"total_volumes\"]] = pd.DataFrame(btc_df.total_volumes.tolist(),index= btc_df.index)"
   ]
  },
  {
   "cell_type": "code",
   "execution_count": 5,
   "metadata": {},
   "outputs": [],
   "source": [
    "eth_df[[\"Dates\",\"prices\"]] = pd.DataFrame(eth_df.prices.tolist(),index= eth_df.index)\n",
    "eth_df[[\"Dates\",\"market_caps\"]] = pd.DataFrame(eth_df.market_caps.tolist(),index= eth_df.index)\n",
    "eth_df[[\"Dates\",\"total_volumes\"]] = pd.DataFrame(eth_df.total_volumes.tolist(),index= eth_df.index)"
   ]
  },
  {
   "cell_type": "code",
   "execution_count": 6,
   "metadata": {},
   "outputs": [],
   "source": [
    "ada_df[[\"Dates\",\"prices\"]] = pd.DataFrame(ada_df.prices.tolist(),index= ada_df.index)\n",
    "ada_df[[\"Dates\",\"market_caps\"]] = pd.DataFrame(ada_df.market_caps.tolist(),index= ada_df.index)\n",
    "ada_df[[\"Dates\",\"total_volumes\"]] = pd.DataFrame(ada_df.total_volumes.tolist(),index= ada_df.index)"
   ]
  },
  {
   "cell_type": "code",
   "execution_count": 7,
   "metadata": {},
   "outputs": [],
   "source": [
    "bnb_df[[\"Dates\",\"prices\"]] = pd.DataFrame(bnb_df.prices.tolist(),index= bnb_df.index)\n",
    "bnb_df[[\"Dates\",\"market_caps\"]] = pd.DataFrame(bnb_df.market_caps.tolist(),index= bnb_df.index)\n",
    "bnb_df[[\"Dates\",\"total_volumes\"]] = pd.DataFrame(bnb_df.total_volumes.tolist(),index= bnb_df.index)"
   ]
  },
  {
   "cell_type": "code",
   "execution_count": 8,
   "metadata": {},
   "outputs": [],
   "source": [
    "xrp_df[[\"Dates\",\"prices\"]] = pd.DataFrame(xrp_df.prices.tolist(),index= xrp_df.index)\n",
    "xrp_df[[\"Dates\",\"market_caps\"]] = pd.DataFrame(xrp_df.market_caps.tolist(),index= xrp_df.index)\n",
    "xrp_df[[\"Dates\",\"total_volumes\"]] = pd.DataFrame(xrp_df.total_volumes.tolist(),index= xrp_df.index)"
   ]
  },
  {
   "cell_type": "code",
   "execution_count": 9,
   "metadata": {},
   "outputs": [],
   "source": [
    "doge_df[[\"Dates\",\"prices\"]] = pd.DataFrame(doge_df.prices.tolist(),index= doge_df.index)\n",
    "doge_df[[\"Dates\",\"market_caps\"]] = pd.DataFrame(doge_df.market_caps.tolist(),index= doge_df.index)\n",
    "doge_df[[\"Dates\",\"total_volumes\"]] = pd.DataFrame(doge_df.total_volumes.tolist(),index= doge_df.index)"
   ]
  },
  {
   "cell_type": "code",
   "execution_count": 10,
   "metadata": {},
   "outputs": [],
   "source": [
    "dot_df[[\"Dates\",\"prices\"]] = pd.DataFrame(dot_df.prices.tolist(),index= dot_df.index)\n",
    "dot_df[[\"Dates\",\"market_caps\"]] = pd.DataFrame(dot_df.market_caps.tolist(),index= dot_df.index)\n",
    "dot_df[[\"Dates\",\"total_volumes\"]] = pd.DataFrame(dot_df.total_volumes.tolist(),index= dot_df.index)"
   ]
  },
  {
   "cell_type": "code",
   "execution_count": 11,
   "metadata": {},
   "outputs": [],
   "source": [
    "sol_df[[\"Dates\",\"prices\"]] = pd.DataFrame(sol_df.prices.tolist(),index= sol_df.index)\n",
    "sol_df[[\"Dates\",\"market_caps\"]] = pd.DataFrame(sol_df.market_caps.tolist(),index= sol_df.index)\n",
    "sol_df[[\"Dates\",\"total_volumes\"]] = pd.DataFrame(sol_df.total_volumes.tolist(),index= sol_df.index)"
   ]
  },
  {
   "cell_type": "code",
   "execution_count": 12,
   "metadata": {},
   "outputs": [],
   "source": [
    "uni_df[[\"Dates\",\"prices\"]] = pd.DataFrame(uni_df.prices.tolist(),index= uni_df.index)\n",
    "uni_df[[\"Dates\",\"market_caps\"]] = pd.DataFrame(uni_df.market_caps.tolist(),index= uni_df.index)\n",
    "uni_df[[\"Dates\",\"total_volumes\"]] = pd.DataFrame(uni_df.total_volumes.tolist(),index= uni_df.index)"
   ]
  },
  {
   "cell_type": "code",
   "execution_count": 13,
   "metadata": {},
   "outputs": [],
   "source": [
    "luna_df[[\"Dates\",\"prices\"]] = pd.DataFrame(luna_df.prices.tolist(),index= luna_df.index)\n",
    "luna_df[[\"Dates\",\"market_caps\"]] = pd.DataFrame(luna_df.market_caps.tolist(),index= luna_df.index)\n",
    "luna_df[[\"Dates\",\"total_volumes\"]] = pd.DataFrame(luna_df.total_volumes.tolist(),index= luna_df.index)"
   ]
  },
  {
   "cell_type": "code",
   "execution_count": 14,
   "metadata": {},
   "outputs": [],
   "source": [
    "start = dt.datetime(1970, 1, 1)  # Unix epoch start time\n",
    "btc_df.Dates = btc_df.Dates.apply(lambda x: start + timedelta(seconds=x/1000))"
   ]
  },
  {
   "cell_type": "code",
   "execution_count": 15,
   "metadata": {},
   "outputs": [],
   "source": [
    "start = dt.datetime(1970, 1, 1)  # Unix epoch start time\n",
    "eth_df.Dates = eth_df.Dates.apply(lambda x: start + timedelta(seconds=x/1000))"
   ]
  },
  {
   "cell_type": "code",
   "execution_count": 16,
   "metadata": {},
   "outputs": [],
   "source": [
    "start = dt.datetime(1970, 1, 1)  # Unix epoch start time\n",
    "ada_df.Dates = ada_df.Dates.apply(lambda x: start + timedelta(seconds=x/1000))"
   ]
  },
  {
   "cell_type": "code",
   "execution_count": 17,
   "metadata": {},
   "outputs": [],
   "source": [
    "start = dt.datetime(1970, 1, 1)  # Unix epoch start time\n",
    "bnb_df.Dates = bnb_df.Dates.apply(lambda x: start + timedelta(seconds=x/1000))"
   ]
  },
  {
   "cell_type": "code",
   "execution_count": 18,
   "metadata": {},
   "outputs": [],
   "source": [
    "start = dt.datetime(1970, 1, 1)  # Unix epoch start time\n",
    "xrp_df.Dates = xrp_df.Dates.apply(lambda x: start + timedelta(seconds=x/1000))"
   ]
  },
  {
   "cell_type": "code",
   "execution_count": 19,
   "metadata": {},
   "outputs": [],
   "source": [
    "start = dt.datetime(1970, 1, 1)  # Unix epoch start time\n",
    "doge_df.Dates = doge_df.Dates.apply(lambda x: start + timedelta(seconds=x/1000))"
   ]
  },
  {
   "cell_type": "code",
   "execution_count": 20,
   "metadata": {},
   "outputs": [],
   "source": [
    "start = dt.datetime(1970, 1, 1)  # Unix epoch start time\n",
    "dot_df.Dates = dot_df.Dates.apply(lambda x: start + timedelta(seconds=x/1000))"
   ]
  },
  {
   "cell_type": "code",
   "execution_count": 21,
   "metadata": {},
   "outputs": [],
   "source": [
    "start = dt.datetime(1970, 1, 1)  # Unix epoch start time\n",
    "sol_df.Dates = sol_df.Dates.apply(lambda x: start + timedelta(seconds=x/1000))"
   ]
  },
  {
   "cell_type": "code",
   "execution_count": 22,
   "metadata": {},
   "outputs": [],
   "source": [
    "start = dt.datetime(1970, 1, 1)  # Unix epoch start time\n",
    "uni_df.Dates = uni_df.Dates.apply(lambda x: start + timedelta(seconds=x/1000))"
   ]
  },
  {
   "cell_type": "code",
   "execution_count": 23,
   "metadata": {},
   "outputs": [],
   "source": [
    "start = dt.datetime(1970, 1, 1)  # Unix epoch start time\n",
    "luna_df.Dates = luna_df.Dates.apply(lambda x: start + timedelta(seconds=x/1000))"
   ]
  },
  {
   "cell_type": "code",
   "execution_count": 24,
   "metadata": {},
   "outputs": [],
   "source": [
    "btc_df['Name']='Bitcoin'\n",
    "btc_df['Ticker']='BTC'"
   ]
  },
  {
   "cell_type": "code",
   "execution_count": 25,
   "metadata": {},
   "outputs": [
    {
     "data": {
      "text/html": [
       "<div>\n",
       "<style scoped>\n",
       "    .dataframe tbody tr th:only-of-type {\n",
       "        vertical-align: middle;\n",
       "    }\n",
       "\n",
       "    .dataframe tbody tr th {\n",
       "        vertical-align: top;\n",
       "    }\n",
       "\n",
       "    .dataframe thead th {\n",
       "        text-align: right;\n",
       "    }\n",
       "</style>\n",
       "<table border=\"1\" class=\"dataframe\">\n",
       "  <thead>\n",
       "    <tr style=\"text-align: right;\">\n",
       "      <th></th>\n",
       "      <th>prices</th>\n",
       "      <th>market_caps</th>\n",
       "      <th>total_volumes</th>\n",
       "      <th>Dates</th>\n",
       "      <th>Name</th>\n",
       "      <th>Ticker</th>\n",
       "    </tr>\n",
       "  </thead>\n",
       "  <tbody>\n",
       "    <tr>\n",
       "      <th>0</th>\n",
       "      <td>135.300000</td>\n",
       "      <td>1.500518e+09</td>\n",
       "      <td>0.000000e+00</td>\n",
       "      <td>2013-04-28 00:00:00</td>\n",
       "      <td>Bitcoin</td>\n",
       "      <td>BTC</td>\n",
       "    </tr>\n",
       "    <tr>\n",
       "      <th>1</th>\n",
       "      <td>141.960000</td>\n",
       "      <td>1.575032e+09</td>\n",
       "      <td>0.000000e+00</td>\n",
       "      <td>2013-04-29 00:00:00</td>\n",
       "      <td>Bitcoin</td>\n",
       "      <td>BTC</td>\n",
       "    </tr>\n",
       "    <tr>\n",
       "      <th>2</th>\n",
       "      <td>135.300000</td>\n",
       "      <td>1.501657e+09</td>\n",
       "      <td>0.000000e+00</td>\n",
       "      <td>2013-04-30 00:00:00</td>\n",
       "      <td>Bitcoin</td>\n",
       "      <td>BTC</td>\n",
       "    </tr>\n",
       "    <tr>\n",
       "      <th>3</th>\n",
       "      <td>117.000000</td>\n",
       "      <td>1.298952e+09</td>\n",
       "      <td>0.000000e+00</td>\n",
       "      <td>2013-05-01 00:00:00</td>\n",
       "      <td>Bitcoin</td>\n",
       "      <td>BTC</td>\n",
       "    </tr>\n",
       "    <tr>\n",
       "      <th>4</th>\n",
       "      <td>103.430000</td>\n",
       "      <td>1.148668e+09</td>\n",
       "      <td>0.000000e+00</td>\n",
       "      <td>2013-05-02 00:00:00</td>\n",
       "      <td>Bitcoin</td>\n",
       "      <td>BTC</td>\n",
       "    </tr>\n",
       "    <tr>\n",
       "      <th>...</th>\n",
       "      <td>...</td>\n",
       "      <td>...</td>\n",
       "      <td>...</td>\n",
       "      <td>...</td>\n",
       "      <td>...</td>\n",
       "      <td>...</td>\n",
       "    </tr>\n",
       "    <tr>\n",
       "      <th>3035</th>\n",
       "      <td>49195.878602</td>\n",
       "      <td>9.230134e+11</td>\n",
       "      <td>3.649709e+10</td>\n",
       "      <td>2021-08-21 00:00:00</td>\n",
       "      <td>Bitcoin</td>\n",
       "      <td>BTC</td>\n",
       "    </tr>\n",
       "    <tr>\n",
       "      <th>3036</th>\n",
       "      <td>48933.689151</td>\n",
       "      <td>9.207502e+11</td>\n",
       "      <td>4.214773e+10</td>\n",
       "      <td>2021-08-22 00:00:00</td>\n",
       "      <td>Bitcoin</td>\n",
       "      <td>BTC</td>\n",
       "    </tr>\n",
       "    <tr>\n",
       "      <th>3037</th>\n",
       "      <td>49250.544870</td>\n",
       "      <td>9.256301e+11</td>\n",
       "      <td>2.711018e+10</td>\n",
       "      <td>2021-08-23 00:00:00</td>\n",
       "      <td>Bitcoin</td>\n",
       "      <td>BTC</td>\n",
       "    </tr>\n",
       "    <tr>\n",
       "      <th>3038</th>\n",
       "      <td>49518.577488</td>\n",
       "      <td>9.307292e+11</td>\n",
       "      <td>3.580026e+10</td>\n",
       "      <td>2021-08-24 00:00:00</td>\n",
       "      <td>Bitcoin</td>\n",
       "      <td>BTC</td>\n",
       "    </tr>\n",
       "    <tr>\n",
       "      <th>3039</th>\n",
       "      <td>49550.431975</td>\n",
       "      <td>9.311970e+11</td>\n",
       "      <td>3.773362e+10</td>\n",
       "      <td>2021-08-24 05:04:39</td>\n",
       "      <td>Bitcoin</td>\n",
       "      <td>BTC</td>\n",
       "    </tr>\n",
       "  </tbody>\n",
       "</table>\n",
       "<p>3040 rows × 6 columns</p>\n",
       "</div>"
      ],
      "text/plain": [
       "            prices   market_caps  total_volumes               Dates     Name  \\\n",
       "0       135.300000  1.500518e+09   0.000000e+00 2013-04-28 00:00:00  Bitcoin   \n",
       "1       141.960000  1.575032e+09   0.000000e+00 2013-04-29 00:00:00  Bitcoin   \n",
       "2       135.300000  1.501657e+09   0.000000e+00 2013-04-30 00:00:00  Bitcoin   \n",
       "3       117.000000  1.298952e+09   0.000000e+00 2013-05-01 00:00:00  Bitcoin   \n",
       "4       103.430000  1.148668e+09   0.000000e+00 2013-05-02 00:00:00  Bitcoin   \n",
       "...            ...           ...            ...                 ...      ...   \n",
       "3035  49195.878602  9.230134e+11   3.649709e+10 2021-08-21 00:00:00  Bitcoin   \n",
       "3036  48933.689151  9.207502e+11   4.214773e+10 2021-08-22 00:00:00  Bitcoin   \n",
       "3037  49250.544870  9.256301e+11   2.711018e+10 2021-08-23 00:00:00  Bitcoin   \n",
       "3038  49518.577488  9.307292e+11   3.580026e+10 2021-08-24 00:00:00  Bitcoin   \n",
       "3039  49550.431975  9.311970e+11   3.773362e+10 2021-08-24 05:04:39  Bitcoin   \n",
       "\n",
       "     Ticker  \n",
       "0       BTC  \n",
       "1       BTC  \n",
       "2       BTC  \n",
       "3       BTC  \n",
       "4       BTC  \n",
       "...     ...  \n",
       "3035    BTC  \n",
       "3036    BTC  \n",
       "3037    BTC  \n",
       "3038    BTC  \n",
       "3039    BTC  \n",
       "\n",
       "[3040 rows x 6 columns]"
      ]
     },
     "execution_count": 25,
     "metadata": {},
     "output_type": "execute_result"
    }
   ],
   "source": [
    "btc_df"
   ]
  },
  {
   "cell_type": "code",
   "execution_count": 26,
   "metadata": {},
   "outputs": [],
   "source": [
    "eth_df['Name']='Ethereum'\n",
    "eth_df['Ticker']='ETH'"
   ]
  },
  {
   "cell_type": "code",
   "execution_count": 27,
   "metadata": {},
   "outputs": [],
   "source": [
    "ada_df['Name']='Cardano'\n",
    "ada_df['Ticker']='ADA'"
   ]
  },
  {
   "cell_type": "code",
   "execution_count": 28,
   "metadata": {},
   "outputs": [],
   "source": [
    "bnb_df['Name']='Binance Coin'\n",
    "bnb_df['Ticker']='BNB'"
   ]
  },
  {
   "cell_type": "code",
   "execution_count": 29,
   "metadata": {},
   "outputs": [],
   "source": [
    "xrp_df['Name']='Ripple'\n",
    "xrp_df['Ticker']='XRP'"
   ]
  },
  {
   "cell_type": "code",
   "execution_count": 30,
   "metadata": {},
   "outputs": [],
   "source": [
    "doge_df['Name']='Dogecoin'\n",
    "doge_df['Ticker']='DOGE'"
   ]
  },
  {
   "cell_type": "code",
   "execution_count": 31,
   "metadata": {},
   "outputs": [],
   "source": [
    "dot_df['Name']='Polkadot'\n",
    "dot_df['Ticker']='DOT'"
   ]
  },
  {
   "cell_type": "code",
   "execution_count": 32,
   "metadata": {},
   "outputs": [],
   "source": [
    "sol_df['Name']='Solana'\n",
    "sol_df['Ticker']='SOL'"
   ]
  },
  {
   "cell_type": "code",
   "execution_count": 33,
   "metadata": {},
   "outputs": [],
   "source": [
    "uni_df['Name']='Uniswap'\n",
    "uni_df['Ticker']='UNI'"
   ]
  },
  {
   "cell_type": "code",
   "execution_count": 34,
   "metadata": {},
   "outputs": [],
   "source": [
    "luna_df['Name']='Terra-Luna'\n",
    "luna_df['Ticker']='LUNA'"
   ]
  },
  {
   "cell_type": "code",
   "execution_count": 35,
   "metadata": {},
   "outputs": [],
   "source": [
    "btc_df = btc_df[['Ticker', 'Name', 'prices', 'market_caps','total_volumes','Dates']]\n",
    "eth_df = eth_df[['Ticker', 'Name', 'prices', 'market_caps','total_volumes','Dates']]\n",
    "ada_df = ada_df[['Ticker', 'Name', 'prices', 'market_caps','total_volumes','Dates']]\n",
    "bnb_df = bnb_df[['Ticker', 'Name', 'prices', 'market_caps','total_volumes','Dates']]\n",
    "xrp_df = xrp_df[['Ticker', 'Name', 'prices', 'market_caps','total_volumes','Dates']]\n",
    "doge_df = doge_df[['Ticker', 'Name', 'prices', 'market_caps','total_volumes','Dates']]\n",
    "dot_df = dot_df[['Ticker', 'Name', 'prices', 'market_caps','total_volumes','Dates']]\n",
    "sol_df = sol_df[['Ticker', 'Name', 'prices', 'market_caps','total_volumes','Dates']]\n",
    "uni_df = uni_df[['Ticker', 'Name', 'prices', 'market_caps','total_volumes','Dates']]\n",
    "luna_df = luna_df[['Ticker', 'Name', 'prices', 'market_caps','total_volumes','Dates']]"
   ]
  },
  {
   "cell_type": "code",
   "execution_count": 36,
   "metadata": {},
   "outputs": [],
   "source": [
    "frames = [btc_df,eth_df,ada_df,bnb_df,xrp_df,doge_df,dot_df,sol_df,uni_df,luna_df]"
   ]
  },
  {
   "cell_type": "code",
   "execution_count": 37,
   "metadata": {},
   "outputs": [],
   "source": [
    "cryptos = pd.concat(frames)"
   ]
  },
  {
   "cell_type": "code",
   "execution_count": 38,
   "metadata": {},
   "outputs": [],
   "source": [
    "cryptos.to_csv(\"cryptos.csv\", encoding='utf-8', index=False)"
   ]
  }
 ],
 "metadata": {
  "kernelspec": {
   "display_name": "Python 3",
   "language": "python",
   "name": "python3"
  },
  "language_info": {
   "codemirror_mode": {
    "name": "ipython",
    "version": 3
   },
   "file_extension": ".py",
   "mimetype": "text/x-python",
   "name": "python",
   "nbconvert_exporter": "python",
   "pygments_lexer": "ipython3",
   "version": "3.8.5"
  }
 },
 "nbformat": 4,
 "nbformat_minor": 4
}
